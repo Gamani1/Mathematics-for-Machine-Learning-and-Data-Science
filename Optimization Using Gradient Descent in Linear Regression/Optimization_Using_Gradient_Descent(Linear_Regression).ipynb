{
 "cells": [
  {
   "cell_type": "markdown",
   "id": "99bd2a08",
   "metadata": {},
   "source": [
    "# Optimization Using Gradient Descent: Linear Regression"
   ]
  },
  {
   "cell_type": "markdown",
   "id": "f8d8a0ed",
   "metadata": {},
   "source": [
    "In this exercise, I will build a simple linear regression model to predict house prices based on number of median household income and number of bedrooms. I will investigate three different approaches to this problem. Using `NumPy` and `Scikit-Learn` linear regression models, as well as constructing and optimizing the sum of squares cost function with gradient descent from scratch."
   ]
  },
  {
   "cell_type": "code",
   "execution_count": 1,
   "id": "a135aec6",
   "metadata": {},
   "outputs": [],
   "source": [
    "#Load the required packages:\n",
    "import numpy as np\n",
    "# A library for programmatic plot generation.\n",
    "import matplotlib.pyplot as plt\n",
    "# A library for data manipulation and analysis.\n",
    "import pandas as pd\n",
    "# LinearRegression from sklearn.\n",
    "from sklearn.linear_model import LinearRegression"
   ]
  },
  {
   "cell_type": "code",
   "execution_count": 2,
   "id": "c4673f16",
   "metadata": {},
   "outputs": [],
   "source": [
    "path = r\"C:\\Users\\abdul\\OneDrive\\Desktop\\Linear Regression\\raw.githubusercontent.com_alexeygrigorev_datasets_master_housing.csv\"\n",
    "data = pd.read_csv(path)"
   ]
  },
  {
   "cell_type": "code",
   "execution_count": 3,
   "id": "3fbb2893",
   "metadata": {},
   "outputs": [
    {
     "data": {
      "text/html": [
       "<div>\n",
       "<style scoped>\n",
       "    .dataframe tbody tr th:only-of-type {\n",
       "        vertical-align: middle;\n",
       "    }\n",
       "\n",
       "    .dataframe tbody tr th {\n",
       "        vertical-align: top;\n",
       "    }\n",
       "\n",
       "    .dataframe thead th {\n",
       "        text-align: right;\n",
       "    }\n",
       "</style>\n",
       "<table border=\"1\" class=\"dataframe\">\n",
       "  <thead>\n",
       "    <tr style=\"text-align: right;\">\n",
       "      <th></th>\n",
       "      <th>longitude</th>\n",
       "      <th>latitude</th>\n",
       "      <th>housing_median_age</th>\n",
       "      <th>total_rooms</th>\n",
       "      <th>total_bedrooms</th>\n",
       "      <th>population</th>\n",
       "      <th>households</th>\n",
       "      <th>median_income</th>\n",
       "      <th>median_house_value</th>\n",
       "      <th>ocean_proximity</th>\n",
       "    </tr>\n",
       "  </thead>\n",
       "  <tbody>\n",
       "    <tr>\n",
       "      <th>0</th>\n",
       "      <td>-122.23</td>\n",
       "      <td>37.88</td>\n",
       "      <td>41.0</td>\n",
       "      <td>880.0</td>\n",
       "      <td>129.0</td>\n",
       "      <td>322.0</td>\n",
       "      <td>126.0</td>\n",
       "      <td>8.3252</td>\n",
       "      <td>452600.0</td>\n",
       "      <td>NEAR BAY</td>\n",
       "    </tr>\n",
       "    <tr>\n",
       "      <th>1</th>\n",
       "      <td>-122.22</td>\n",
       "      <td>37.86</td>\n",
       "      <td>21.0</td>\n",
       "      <td>7099.0</td>\n",
       "      <td>1106.0</td>\n",
       "      <td>2401.0</td>\n",
       "      <td>1138.0</td>\n",
       "      <td>8.3014</td>\n",
       "      <td>358500.0</td>\n",
       "      <td>NEAR BAY</td>\n",
       "    </tr>\n",
       "    <tr>\n",
       "      <th>2</th>\n",
       "      <td>-122.24</td>\n",
       "      <td>37.85</td>\n",
       "      <td>52.0</td>\n",
       "      <td>1467.0</td>\n",
       "      <td>190.0</td>\n",
       "      <td>496.0</td>\n",
       "      <td>177.0</td>\n",
       "      <td>7.2574</td>\n",
       "      <td>352100.0</td>\n",
       "      <td>NEAR BAY</td>\n",
       "    </tr>\n",
       "    <tr>\n",
       "      <th>3</th>\n",
       "      <td>-122.25</td>\n",
       "      <td>37.85</td>\n",
       "      <td>52.0</td>\n",
       "      <td>1274.0</td>\n",
       "      <td>235.0</td>\n",
       "      <td>558.0</td>\n",
       "      <td>219.0</td>\n",
       "      <td>5.6431</td>\n",
       "      <td>341300.0</td>\n",
       "      <td>NEAR BAY</td>\n",
       "    </tr>\n",
       "    <tr>\n",
       "      <th>4</th>\n",
       "      <td>-122.25</td>\n",
       "      <td>37.85</td>\n",
       "      <td>52.0</td>\n",
       "      <td>1627.0</td>\n",
       "      <td>280.0</td>\n",
       "      <td>565.0</td>\n",
       "      <td>259.0</td>\n",
       "      <td>3.8462</td>\n",
       "      <td>342200.0</td>\n",
       "      <td>NEAR BAY</td>\n",
       "    </tr>\n",
       "  </tbody>\n",
       "</table>\n",
       "</div>"
      ],
      "text/plain": [
       "   longitude  latitude  housing_median_age  total_rooms  total_bedrooms  \\\n",
       "0    -122.23     37.88                41.0        880.0           129.0   \n",
       "1    -122.22     37.86                21.0       7099.0          1106.0   \n",
       "2    -122.24     37.85                52.0       1467.0           190.0   \n",
       "3    -122.25     37.85                52.0       1274.0           235.0   \n",
       "4    -122.25     37.85                52.0       1627.0           280.0   \n",
       "\n",
       "   population  households  median_income  median_house_value ocean_proximity  \n",
       "0       322.0       126.0         8.3252            452600.0        NEAR BAY  \n",
       "1      2401.0      1138.0         8.3014            358500.0        NEAR BAY  \n",
       "2       496.0       177.0         7.2574            352100.0        NEAR BAY  \n",
       "3       558.0       219.0         5.6431            341300.0        NEAR BAY  \n",
       "4       565.0       259.0         3.8462            342200.0        NEAR BAY  "
      ]
     },
     "execution_count": 3,
     "metadata": {},
     "output_type": "execute_result"
    }
   ],
   "source": [
    "data.head()"
   ]
  },
  {
   "cell_type": "code",
   "execution_count": 4,
   "id": "84357525",
   "metadata": {},
   "outputs": [],
   "source": [
    "new_data = data[[\"median_income\",\"total_bedrooms\"]]"
   ]
  },
  {
   "cell_type": "code",
   "execution_count": 5,
   "id": "5b098d76",
   "metadata": {},
   "outputs": [
    {
     "data": {
      "text/html": [
       "<div>\n",
       "<style scoped>\n",
       "    .dataframe tbody tr th:only-of-type {\n",
       "        vertical-align: middle;\n",
       "    }\n",
       "\n",
       "    .dataframe tbody tr th {\n",
       "        vertical-align: top;\n",
       "    }\n",
       "\n",
       "    .dataframe thead th {\n",
       "        text-align: right;\n",
       "    }\n",
       "</style>\n",
       "<table border=\"1\" class=\"dataframe\">\n",
       "  <thead>\n",
       "    <tr style=\"text-align: right;\">\n",
       "      <th></th>\n",
       "      <th>median_income</th>\n",
       "      <th>total_bedrooms</th>\n",
       "    </tr>\n",
       "  </thead>\n",
       "  <tbody>\n",
       "    <tr>\n",
       "      <th>0</th>\n",
       "      <td>8.3252</td>\n",
       "      <td>129.0</td>\n",
       "    </tr>\n",
       "    <tr>\n",
       "      <th>1</th>\n",
       "      <td>8.3014</td>\n",
       "      <td>1106.0</td>\n",
       "    </tr>\n",
       "    <tr>\n",
       "      <th>2</th>\n",
       "      <td>7.2574</td>\n",
       "      <td>190.0</td>\n",
       "    </tr>\n",
       "    <tr>\n",
       "      <th>3</th>\n",
       "      <td>5.6431</td>\n",
       "      <td>235.0</td>\n",
       "    </tr>\n",
       "    <tr>\n",
       "      <th>4</th>\n",
       "      <td>3.8462</td>\n",
       "      <td>280.0</td>\n",
       "    </tr>\n",
       "    <tr>\n",
       "      <th>...</th>\n",
       "      <td>...</td>\n",
       "      <td>...</td>\n",
       "    </tr>\n",
       "    <tr>\n",
       "      <th>20635</th>\n",
       "      <td>1.5603</td>\n",
       "      <td>374.0</td>\n",
       "    </tr>\n",
       "    <tr>\n",
       "      <th>20636</th>\n",
       "      <td>2.5568</td>\n",
       "      <td>150.0</td>\n",
       "    </tr>\n",
       "    <tr>\n",
       "      <th>20637</th>\n",
       "      <td>1.7000</td>\n",
       "      <td>485.0</td>\n",
       "    </tr>\n",
       "    <tr>\n",
       "      <th>20638</th>\n",
       "      <td>1.8672</td>\n",
       "      <td>409.0</td>\n",
       "    </tr>\n",
       "    <tr>\n",
       "      <th>20639</th>\n",
       "      <td>2.3886</td>\n",
       "      <td>616.0</td>\n",
       "    </tr>\n",
       "  </tbody>\n",
       "</table>\n",
       "<p>20640 rows × 2 columns</p>\n",
       "</div>"
      ],
      "text/plain": [
       "       median_income  total_bedrooms\n",
       "0             8.3252           129.0\n",
       "1             8.3014          1106.0\n",
       "2             7.2574           190.0\n",
       "3             5.6431           235.0\n",
       "4             3.8462           280.0\n",
       "...              ...             ...\n",
       "20635         1.5603           374.0\n",
       "20636         2.5568           150.0\n",
       "20637         1.7000           485.0\n",
       "20638         1.8672           409.0\n",
       "20639         2.3886           616.0\n",
       "\n",
       "[20640 rows x 2 columns]"
      ]
     },
     "execution_count": 5,
     "metadata": {},
     "output_type": "execute_result"
    }
   ],
   "source": [
    "new_data"
   ]
  },
  {
   "cell_type": "code",
   "execution_count": 6,
   "id": "d5d23b88",
   "metadata": {},
   "outputs": [],
   "source": [
    "df = new_data"
   ]
  },
  {
   "cell_type": "code",
   "execution_count": 7,
   "id": "cc0a4b6a",
   "metadata": {},
   "outputs": [
    {
     "data": {
      "text/plain": [
       "<bound method DataFrame.info of        median_income  total_bedrooms\n",
       "0             8.3252           129.0\n",
       "1             8.3014          1106.0\n",
       "2             7.2574           190.0\n",
       "3             5.6431           235.0\n",
       "4             3.8462           280.0\n",
       "...              ...             ...\n",
       "20635         1.5603           374.0\n",
       "20636         2.5568           150.0\n",
       "20637         1.7000           485.0\n",
       "20638         1.8672           409.0\n",
       "20639         2.3886           616.0\n",
       "\n",
       "[20640 rows x 2 columns]>"
      ]
     },
     "execution_count": 7,
     "metadata": {},
     "output_type": "execute_result"
    }
   ],
   "source": [
    "df.info"
   ]
  },
  {
   "cell_type": "code",
   "execution_count": 8,
   "id": "fdafaa2a",
   "metadata": {},
   "outputs": [
    {
     "data": {
      "text/html": [
       "<div>\n",
       "<style scoped>\n",
       "    .dataframe tbody tr th:only-of-type {\n",
       "        vertical-align: middle;\n",
       "    }\n",
       "\n",
       "    .dataframe tbody tr th {\n",
       "        vertical-align: top;\n",
       "    }\n",
       "\n",
       "    .dataframe thead th {\n",
       "        text-align: right;\n",
       "    }\n",
       "</style>\n",
       "<table border=\"1\" class=\"dataframe\">\n",
       "  <thead>\n",
       "    <tr style=\"text-align: right;\">\n",
       "      <th></th>\n",
       "      <th>median_income</th>\n",
       "      <th>total_bedrooms</th>\n",
       "    </tr>\n",
       "  </thead>\n",
       "  <tbody>\n",
       "    <tr>\n",
       "      <th>0</th>\n",
       "      <td>8.3252</td>\n",
       "      <td>129.0</td>\n",
       "    </tr>\n",
       "    <tr>\n",
       "      <th>1</th>\n",
       "      <td>8.3014</td>\n",
       "      <td>1106.0</td>\n",
       "    </tr>\n",
       "    <tr>\n",
       "      <th>2</th>\n",
       "      <td>7.2574</td>\n",
       "      <td>190.0</td>\n",
       "    </tr>\n",
       "    <tr>\n",
       "      <th>3</th>\n",
       "      <td>5.6431</td>\n",
       "      <td>235.0</td>\n",
       "    </tr>\n",
       "    <tr>\n",
       "      <th>4</th>\n",
       "      <td>3.8462</td>\n",
       "      <td>280.0</td>\n",
       "    </tr>\n",
       "    <tr>\n",
       "      <th>...</th>\n",
       "      <td>...</td>\n",
       "      <td>...</td>\n",
       "    </tr>\n",
       "    <tr>\n",
       "      <th>20635</th>\n",
       "      <td>1.5603</td>\n",
       "      <td>374.0</td>\n",
       "    </tr>\n",
       "    <tr>\n",
       "      <th>20636</th>\n",
       "      <td>2.5568</td>\n",
       "      <td>150.0</td>\n",
       "    </tr>\n",
       "    <tr>\n",
       "      <th>20637</th>\n",
       "      <td>1.7000</td>\n",
       "      <td>485.0</td>\n",
       "    </tr>\n",
       "    <tr>\n",
       "      <th>20638</th>\n",
       "      <td>1.8672</td>\n",
       "      <td>409.0</td>\n",
       "    </tr>\n",
       "    <tr>\n",
       "      <th>20639</th>\n",
       "      <td>2.3886</td>\n",
       "      <td>616.0</td>\n",
       "    </tr>\n",
       "  </tbody>\n",
       "</table>\n",
       "<p>20640 rows × 2 columns</p>\n",
       "</div>"
      ],
      "text/plain": [
       "       median_income  total_bedrooms\n",
       "0             8.3252           129.0\n",
       "1             8.3014          1106.0\n",
       "2             7.2574           190.0\n",
       "3             5.6431           235.0\n",
       "4             3.8462           280.0\n",
       "...              ...             ...\n",
       "20635         1.5603           374.0\n",
       "20636         2.5568           150.0\n",
       "20637         1.7000           485.0\n",
       "20638         1.8672           409.0\n",
       "20639         2.3886           616.0\n",
       "\n",
       "[20640 rows x 2 columns]"
      ]
     },
     "execution_count": 8,
     "metadata": {},
     "output_type": "execute_result"
    }
   ],
   "source": [
    "df"
   ]
  },
  {
   "cell_type": "code",
   "execution_count": 9,
   "id": "f89fb39c",
   "metadata": {},
   "outputs": [],
   "source": [
    "new_df = len(df) // 40"
   ]
  },
  {
   "cell_type": "code",
   "execution_count": 10,
   "id": "7b559d91",
   "metadata": {},
   "outputs": [
    {
     "data": {
      "text/html": [
       "<div>\n",
       "<style scoped>\n",
       "    .dataframe tbody tr th:only-of-type {\n",
       "        vertical-align: middle;\n",
       "    }\n",
       "\n",
       "    .dataframe tbody tr th {\n",
       "        vertical-align: top;\n",
       "    }\n",
       "\n",
       "    .dataframe thead th {\n",
       "        text-align: right;\n",
       "    }\n",
       "</style>\n",
       "<table border=\"1\" class=\"dataframe\">\n",
       "  <thead>\n",
       "    <tr style=\"text-align: right;\">\n",
       "      <th></th>\n",
       "      <th>median_income</th>\n",
       "      <th>total_bedrooms</th>\n",
       "    </tr>\n",
       "  </thead>\n",
       "  <tbody>\n",
       "    <tr>\n",
       "      <th>0</th>\n",
       "      <td>8.3252</td>\n",
       "      <td>129.0</td>\n",
       "    </tr>\n",
       "    <tr>\n",
       "      <th>1</th>\n",
       "      <td>8.3014</td>\n",
       "      <td>1106.0</td>\n",
       "    </tr>\n",
       "    <tr>\n",
       "      <th>2</th>\n",
       "      <td>7.2574</td>\n",
       "      <td>190.0</td>\n",
       "    </tr>\n",
       "    <tr>\n",
       "      <th>3</th>\n",
       "      <td>5.6431</td>\n",
       "      <td>235.0</td>\n",
       "    </tr>\n",
       "    <tr>\n",
       "      <th>4</th>\n",
       "      <td>3.8462</td>\n",
       "      <td>280.0</td>\n",
       "    </tr>\n",
       "    <tr>\n",
       "      <th>...</th>\n",
       "      <td>...</td>\n",
       "      <td>...</td>\n",
       "    </tr>\n",
       "    <tr>\n",
       "      <th>511</th>\n",
       "      <td>13.4990</td>\n",
       "      <td>335.0</td>\n",
       "    </tr>\n",
       "    <tr>\n",
       "      <th>512</th>\n",
       "      <td>12.2138</td>\n",
       "      <td>366.0</td>\n",
       "    </tr>\n",
       "    <tr>\n",
       "      <th>513</th>\n",
       "      <td>8.1872</td>\n",
       "      <td>381.0</td>\n",
       "    </tr>\n",
       "    <tr>\n",
       "      <th>514</th>\n",
       "      <td>12.3804</td>\n",
       "      <td>396.0</td>\n",
       "    </tr>\n",
       "    <tr>\n",
       "      <th>515</th>\n",
       "      <td>5.8948</td>\n",
       "      <td>246.0</td>\n",
       "    </tr>\n",
       "  </tbody>\n",
       "</table>\n",
       "<p>516 rows × 2 columns</p>\n",
       "</div>"
      ],
      "text/plain": [
       "     median_income  total_bedrooms\n",
       "0           8.3252           129.0\n",
       "1           8.3014          1106.0\n",
       "2           7.2574           190.0\n",
       "3           5.6431           235.0\n",
       "4           3.8462           280.0\n",
       "..             ...             ...\n",
       "511        13.4990           335.0\n",
       "512        12.2138           366.0\n",
       "513         8.1872           381.0\n",
       "514        12.3804           396.0\n",
       "515         5.8948           246.0\n",
       "\n",
       "[516 rows x 2 columns]"
      ]
     },
     "execution_count": 10,
     "metadata": {},
     "output_type": "execute_result"
    }
   ],
   "source": [
    "first_half = df.iloc[:new_df]\n",
    "first_half"
   ]
  },
  {
   "cell_type": "code",
   "execution_count": 11,
   "id": "87bf5f5e",
   "metadata": {},
   "outputs": [
    {
     "data": {
      "text/html": [
       "<div>\n",
       "<style scoped>\n",
       "    .dataframe tbody tr th:only-of-type {\n",
       "        vertical-align: middle;\n",
       "    }\n",
       "\n",
       "    .dataframe tbody tr th {\n",
       "        vertical-align: top;\n",
       "    }\n",
       "\n",
       "    .dataframe thead th {\n",
       "        text-align: right;\n",
       "    }\n",
       "</style>\n",
       "<table border=\"1\" class=\"dataframe\">\n",
       "  <thead>\n",
       "    <tr style=\"text-align: right;\">\n",
       "      <th></th>\n",
       "      <th>median_income</th>\n",
       "      <th>total_bedrooms</th>\n",
       "    </tr>\n",
       "  </thead>\n",
       "  <tbody>\n",
       "    <tr>\n",
       "      <th>0</th>\n",
       "      <td>8.3252</td>\n",
       "      <td>129.0</td>\n",
       "    </tr>\n",
       "    <tr>\n",
       "      <th>1</th>\n",
       "      <td>8.3014</td>\n",
       "      <td>1106.0</td>\n",
       "    </tr>\n",
       "    <tr>\n",
       "      <th>2</th>\n",
       "      <td>7.2574</td>\n",
       "      <td>190.0</td>\n",
       "    </tr>\n",
       "    <tr>\n",
       "      <th>3</th>\n",
       "      <td>5.6431</td>\n",
       "      <td>235.0</td>\n",
       "    </tr>\n",
       "    <tr>\n",
       "      <th>4</th>\n",
       "      <td>3.8462</td>\n",
       "      <td>280.0</td>\n",
       "    </tr>\n",
       "  </tbody>\n",
       "</table>\n",
       "</div>"
      ],
      "text/plain": [
       "   median_income  total_bedrooms\n",
       "0         8.3252           129.0\n",
       "1         8.3014          1106.0\n",
       "2         7.2574           190.0\n",
       "3         5.6431           235.0\n",
       "4         3.8462           280.0"
      ]
     },
     "execution_count": 11,
     "metadata": {},
     "output_type": "execute_result"
    }
   ],
   "source": [
    "df = first_half\n",
    "df.head()"
   ]
  },
  {
   "cell_type": "code",
   "execution_count": 12,
   "id": "3fd17462",
   "metadata": {},
   "outputs": [
    {
     "data": {
      "text/html": [
       "<div>\n",
       "<style scoped>\n",
       "    .dataframe tbody tr th:only-of-type {\n",
       "        vertical-align: middle;\n",
       "    }\n",
       "\n",
       "    .dataframe tbody tr th {\n",
       "        vertical-align: top;\n",
       "    }\n",
       "\n",
       "    .dataframe thead th {\n",
       "        text-align: right;\n",
       "    }\n",
       "</style>\n",
       "<table border=\"1\" class=\"dataframe\">\n",
       "  <thead>\n",
       "    <tr style=\"text-align: right;\">\n",
       "      <th></th>\n",
       "      <th>median_income</th>\n",
       "      <th>total_bedrooms</th>\n",
       "    </tr>\n",
       "  </thead>\n",
       "  <tbody>\n",
       "    <tr>\n",
       "      <th>count</th>\n",
       "      <td>516.000000</td>\n",
       "      <td>514.000000</td>\n",
       "    </tr>\n",
       "    <tr>\n",
       "      <th>mean</th>\n",
       "      <td>3.342688</td>\n",
       "      <td>409.649805</td>\n",
       "    </tr>\n",
       "    <tr>\n",
       "      <th>std</th>\n",
       "      <td>2.007325</td>\n",
       "      <td>291.908778</td>\n",
       "    </tr>\n",
       "    <tr>\n",
       "      <th>min</th>\n",
       "      <td>0.499900</td>\n",
       "      <td>4.000000</td>\n",
       "    </tr>\n",
       "    <tr>\n",
       "      <th>25%</th>\n",
       "      <td>2.025175</td>\n",
       "      <td>236.000000</td>\n",
       "    </tr>\n",
       "    <tr>\n",
       "      <th>50%</th>\n",
       "      <td>2.732750</td>\n",
       "      <td>365.000000</td>\n",
       "    </tr>\n",
       "    <tr>\n",
       "      <th>75%</th>\n",
       "      <td>4.016375</td>\n",
       "      <td>480.750000</td>\n",
       "    </tr>\n",
       "    <tr>\n",
       "      <th>max</th>\n",
       "      <td>13.499000</td>\n",
       "      <td>2477.000000</td>\n",
       "    </tr>\n",
       "  </tbody>\n",
       "</table>\n",
       "</div>"
      ],
      "text/plain": [
       "       median_income  total_bedrooms\n",
       "count     516.000000      514.000000\n",
       "mean        3.342688      409.649805\n",
       "std         2.007325      291.908778\n",
       "min         0.499900        4.000000\n",
       "25%         2.025175      236.000000\n",
       "50%         2.732750      365.000000\n",
       "75%         4.016375      480.750000\n",
       "max        13.499000     2477.000000"
      ]
     },
     "execution_count": 12,
     "metadata": {},
     "output_type": "execute_result"
    }
   ],
   "source": [
    "df.describe()"
   ]
  },
  {
   "cell_type": "code",
   "execution_count": 13,
   "id": "9b66ad17",
   "metadata": {},
   "outputs": [
    {
     "data": {
      "text/plain": [
       "<Axes: xlabel='total_bedrooms', ylabel='median_income'>"
      ]
     },
     "execution_count": 13,
     "metadata": {},
     "output_type": "execute_result"
    },
    {
     "data": {
      "image/png": "[encoded data removed]",
      "text/plain": [
       "<Figure size 640x480 with 1 Axes>"
      ]
     },
     "metadata": {},
     "output_type": "display_data"
    }
   ],
   "source": [
    "df.plot(x='total_bedrooms', y='median_income', kind='scatter', c='GREEN')"
   ]
  },
  {
   "cell_type": "code",
   "execution_count": 14,
   "id": "5a0c648f",
   "metadata": {},
   "outputs": [],
   "source": [
    "df = df.dropna()"
   ]
  },
  {
   "cell_type": "markdown",
   "id": "c567d879",
   "metadata": {},
   "source": [
    "I will use this dataset to solve a simple problem with linear regression: given a medium house_hold income to predict the number of bedrooms."
   ]
  },
  {
   "cell_type": "markdown",
   "id": "13b1d6fe",
   "metadata": {},
   "source": [
    "## 1.0 Linear Regression in Python with NumPy and Scikit-Learn"
   ]
  },
  {
   "cell_type": "code",
   "execution_count": 15,
   "id": "13415e79",
   "metadata": {},
   "outputs": [],
   "source": [
    "#Save the required field of the DataFrame into variables X and Y\n",
    "X = df['total_bedrooms']\n",
    "Y = df['median_income']"
   ]
  },
  {
   "cell_type": "markdown",
   "id": "cc46058c",
   "metadata": {},
   "source": [
    "### 1.1 Linear Regression with NumPy"
   ]
  },
  {
   "cell_type": "markdown",
   "id": "d0b67d53",
   "metadata": {},
   "source": [
    "Using the function `np.polyfit(x, y, deg)` to fit a polynomial of degree `deg` to points $(x, y)$, minimising the sum of squared errors. Taking `deg = 1` you can obtain the slope `m` and the intercept `b` of the linear regression line:"
   ]
  },
  {
   "cell_type": "code",
   "execution_count": 16,
   "id": "81bc10d0",
   "metadata": {},
   "outputs": [
    {
     "name": "stdout",
     "output_type": "stream",
     "text": [
      "Linear regression with NumPy. Slope: -0.00041466543515910123. Intercept: 3.51389971600603\n"
     ]
    }
   ],
   "source": [
    "m_numpy, b_numpy = np.polyfit(X, Y, 1)\n",
    "\n",
    "print(f\"Linear regression with NumPy. Slope: {m_numpy}. Intercept: {b_numpy}\")"
   ]
  },
  {
   "cell_type": "code",
   "execution_count": 17,
   "id": "bbc516ce",
   "metadata": {},
   "outputs": [
    {
     "data": {
      "image/png": "[encoded data removed]",
      "text/plain": [
       "<Figure size 800x500 with 1 Axes>"
      ]
     },
     "metadata": {},
     "output_type": "display_data"
    }
   ],
   "source": [
    "# plot the linear regression line . The regression line is red.\n",
    "def plot_linear_regression(X, Y, x_label, y_label, m, b, X_pred=np.array([]), Y_pred=np.array([])):\n",
    "    fig, ax = plt.subplots(1,1,figsize=(8,5))\n",
    "    ax.plot(X, Y, '*', color='green')\n",
    "    ax.set_xlabel(x_label)\n",
    "    ax.set_ylabel(y_label)\n",
    "\n",
    "    ax.plot(X, m*X + b, color='red')\n",
    "    # Plot prediction points (empty arrays by default - the predictions will be calculated later).\n",
    "    ax.plot(X_pred, Y_pred, '*', color='blue', markersize=8)\n",
    "    \n",
    "plot_linear_regression(X, Y, 'total_bedrooms', 'median_income', m_numpy, b_numpy)"
   ]
  },
  {
   "cell_type": "markdown",
   "id": "2bd81c80",
   "metadata": {},
   "source": [
    " Make predictions substituting the obtained slope and intercept coefficients into the equation $Y = mX + b$, given an array of $X$ values."
   ]
  },
  {
   "cell_type": "code",
   "execution_count": 18,
   "id": "c83dab87",
   "metadata": {},
   "outputs": [],
   "source": [
    "def pred_numpy(m, b, X):\n",
    "    Y = m*X + b\n",
    "    return Y"
   ]
  },
  {
   "cell_type": "code",
   "execution_count": 19,
   "id": "30de41ee",
   "metadata": {},
   "outputs": [
    {
     "data": {
      "text/html": [
       "<div>\n",
       "<style scoped>\n",
       "    .dataframe tbody tr th:only-of-type {\n",
       "        vertical-align: middle;\n",
       "    }\n",
       "\n",
       "    .dataframe tbody tr th {\n",
       "        vertical-align: top;\n",
       "    }\n",
       "\n",
       "    .dataframe thead th {\n",
       "        text-align: right;\n",
       "    }\n",
       "</style>\n",
       "<table border=\"1\" class=\"dataframe\">\n",
       "  <thead>\n",
       "    <tr style=\"text-align: right;\">\n",
       "      <th></th>\n",
       "      <th>median_income</th>\n",
       "      <th>total_bedrooms</th>\n",
       "    </tr>\n",
       "  </thead>\n",
       "  <tbody>\n",
       "    <tr>\n",
       "      <th>0</th>\n",
       "      <td>8.3252</td>\n",
       "      <td>129.0</td>\n",
       "    </tr>\n",
       "    <tr>\n",
       "      <th>1</th>\n",
       "      <td>8.3014</td>\n",
       "      <td>1106.0</td>\n",
       "    </tr>\n",
       "    <tr>\n",
       "      <th>2</th>\n",
       "      <td>7.2574</td>\n",
       "      <td>190.0</td>\n",
       "    </tr>\n",
       "    <tr>\n",
       "      <th>3</th>\n",
       "      <td>5.6431</td>\n",
       "      <td>235.0</td>\n",
       "    </tr>\n",
       "    <tr>\n",
       "      <th>4</th>\n",
       "      <td>3.8462</td>\n",
       "      <td>280.0</td>\n",
       "    </tr>\n",
       "  </tbody>\n",
       "</table>\n",
       "</div>"
      ],
      "text/plain": [
       "   median_income  total_bedrooms\n",
       "0         8.3252           129.0\n",
       "1         8.3014          1106.0\n",
       "2         7.2574           190.0\n",
       "3         5.6431           235.0\n",
       "4         3.8462           280.0"
      ]
     },
     "execution_count": 19,
     "metadata": {},
     "output_type": "execute_result"
    }
   ],
   "source": [
    "df.head()"
   ]
  },
  {
   "cell_type": "code",
   "execution_count": 20,
   "id": "13c40cc9",
   "metadata": {},
   "outputs": [
    {
     "name": "stdout",
     "output_type": "stream",
     "text": [
      "Medium household income:\n",
      "[8.1257 6.0431 2.9431]\n",
      "Predictions of bedrooms using NumPy linear regression:\n",
      "[3.51053027 3.51139385 3.51267931]\n"
     ]
    }
   ],
   "source": [
    "X_pred = np.array([8.1257, 6.0431, 2.9431])\n",
    "Y_pred_numpy = pred_numpy(m_numpy, b_numpy, X_pred)\n",
    "\n",
    "print(f\"Medium household income:\\n{X_pred}\")\n",
    "print(f\"Predictions of bedrooms using NumPy linear regression:\\n{Y_pred_numpy}\")"
   ]
  },
  {
   "cell_type": "code",
   "execution_count": 21,
   "id": "7aa9532e",
   "metadata": {},
   "outputs": [
    {
     "data": {
      "image/png": "[encoded data removed]",
      "text/plain": [
       "<Figure size 800x500 with 1 Axes>"
      ]
     },
     "metadata": {},
     "output_type": "display_data"
    }
   ],
   "source": [
    "plot_linear_regression(X, Y, 'total_bedrooms', 'median_income', m_numpy, b_numpy, X_pred, Y_pred_numpy)"
   ]
  },
  {
   "cell_type": "markdown",
   "id": "310ad21e",
   "metadata": {},
   "source": [
    "## 2.0  Linear Regression with Scikit-Learn"
   ]
  },
  {
   "cell_type": "markdown",
   "id": "aab37362",
   "metadata": {},
   "source": [
    "`Scikit-Learn` is an open-source machine learning library that supports supervised and unsupervised learning. It also provides various tools for model fitting, data preprocessing, model selection, model evaluation, and many other utilities. `Scikit-learn` provides dozens of built-in machine learning algorithms and models, called **estimators**. Each estimator can be fitted to some data using its `fit` method."
   ]
  },
  {
   "cell_type": "markdown",
   "id": "674a1bfb",
   "metadata": {},
   "source": [
    "**Create an estimator object for a linear regression model:**\n",
    "The estimator can learn from data calling the fit function. However, trying to run the following code you will get an error, as the data needs to be reshaped into 2D array:    "
   ]
  },
  {
   "cell_type": "code",
   "execution_count": 22,
   "id": "022b96bb",
   "metadata": {},
   "outputs": [],
   "source": [
    "lr_sklearn = LinearRegression()"
   ]
  },
  {
   "cell_type": "code",
   "execution_count": 23,
   "id": "4c3176c9",
   "metadata": {},
   "outputs": [
    {
     "name": "stdout",
     "output_type": "stream",
     "text": [
      "Shape of X array: (514,)\n",
      "Shape of Y array: (514,)\n",
      "Expected 2D array, got 1D array instead:\n",
      "array=[ 129. 1106.  190.  235.  280.  213.  489.  687.  665.  707.  434.  752.\n",
      "  474.  191.  626.  283.  347.  293.  455.  298.  184.  367.  541.  337.\n",
      "  437.  123.  244.  421.  492.  160.  447.  481.  409.  366.  574.  282.\n",
      "  432.  390.  330.  715.  419.  311.  202.  202.  311.  420.  322.  312.\n",
      "  195.  375.  453.  456.  853.  456.  235.  243.  288.  335.  341.   43.\n",
      "  211.   29.  190.  237.  182.  209.  354.  244.  109.  644.  152.  297.\n",
      "  204.    4.  161.  462.  562.  243.  374.  176.  289.   56.   97.  164.\n",
      "  184.  143.  451.  348.   42.   78.  392.   87.   31.  347.  623. 2477.\n",
      " 1331.  107. 1270. 1085. 1414. 1603.  242.  701. 1914.  225.  482.  460.\n",
      "  751.  855.  289. 1098. 1196.  559.  428.  287. 1750. 1105.  399.  454.\n",
      "  406.   54.  411.  574.  365. 1048.  473.  597.  674.  346.  490.  210.\n",
      "  460.  788.  184.  223.  271.  264.  181.  534.   38.  333.  436.  605.\n",
      "  535.  212.  335.  465.  464.  541.  339.  536.  486.  229.  402.  292.\n",
      "  313.  238.  365.  550.  168.  510.  502.  835. 1065.  792.  469.  864.\n",
      "  492.  526.  188.  391.  606.  647.  228.  373.  398.  588.  289.  420.\n",
      "  749.  184.  414.  480.  299. 1344.  395.  264.  431.  395.  180.  376.\n",
      "   43.  129.  237.  779.  128.  301.  206.  146.  215.  530.  472.  258.\n",
      "  825.  396.  217.  574.  145.  199.  314.  690.  190.  575.  450.  711.\n",
      "  376.  307.  557.  409.  500.  447.  499.  293.  711.  354.  263.  259.\n",
      "  341.  195.  256.  405.  271.  451.  761.  459.  195.  452.  533.  528.\n",
      "  508.  300.  224.  244.  710.  460.  248.  114.  473.  514.  463.  314.\n",
      "  173.  153.  498.  375.  328.  254.  597.  415.  443.  399.  403.  502.\n",
      "  414.  180.  428.  445.  415.  397.   31.  205.  193.  332.   95.  233.\n",
      "  387.  243.  217.  262.  195.  336.  317. 2048.  260.  746.  440.  322.\n",
      "  177.  128.  194.  397.  349.  342.  533.  367.  413.  358.  397.  261.\n",
      "  175.  452.  236.  257.  408.  282.  547.  471.  362.  391.  259.  510.\n",
      "  393.  207.  238.  132.  736.  370.  565.  189.  297.  212.  154.  253.\n",
      "  147.  291.  215.  293.  119.  874.  445.  134.  193.  371.  126.  226.\n",
      "  183.  391.   76.  218.  261.  263.  233.  214.  307.  320.  271.  248.\n",
      "  390.  514.  624.  211.  343.  307.  574.  286.  365.  231.  491.  261.\n",
      "  111.  105.  200.   54.   93.  666.  161.  256.  399.  178.  454.  131.\n",
      "  275.  277.  294.  140.  281.  287.  300.  181.  147.  223.  239.  238.\n",
      "  263.  422.  522.  349.  402. 1212.  293.  283.  291.  930.  698.  261.\n",
      "  175.  380.  332.  421.  274.  279.  273.  240.  270.  373.  328.  250.\n",
      "  328.  169.  408.  329.  473.  366.  293.  335.  195.  494.  531.  457.\n",
      "  460.  417.  410.  648.  391.  592.  491.  200.  215.  424.  490.  442.\n",
      "  395.  146.   97.  118.  127.  119.  376.  749.  188.  132.  548.  536.\n",
      "  198.  416.  696.  446.  930.  439.  682.  255.  604.  837.  141.  465.\n",
      "  460.  236.  371.  998. 1108.  368.  698.  195.  353.  300.  755.  324.\n",
      "  404.  367.  460.  607.  450.  668.  472.  435.  417.  691.  550.  305.\n",
      "  186.  372.  583. 1744.  832.  744.  604.  517.  191.  318.  444.  225.\n",
      "  474.  663.  768.  920.  400.  300.  426.   83.  307.  145.  198.  484.\n",
      "  419.  813. 2408.  379.  310.  335.  366.  381.  396.  246.].\n",
      "Reshape your data either using array.reshape(-1, 1) if your data has a single feature or array.reshape(1, -1) if it contains a single sample.\n"
     ]
    }
   ],
   "source": [
    "print(f\"Shape of X array: {X.shape}\")\n",
    "print(f\"Shape of Y array: {Y.shape}\")\n",
    "\n",
    "try:\n",
    "    lr_sklearn.fit(X, Y)\n",
    "except ValueError as err:\n",
    "    print(err)"
   ]
  },
  {
   "cell_type": "markdown",
   "id": "d22ea6a3",
   "metadata": {},
   "source": [
    "Increase the dimension of the array by one with reshape function:"
   ]
  },
  {
   "cell_type": "code",
   "execution_count": 24,
   "id": "61463b14",
   "metadata": {},
   "outputs": [
    {
     "name": "stdout",
     "output_type": "stream",
     "text": [
      "Shape of new X array: (514, 1)\n",
      "Shape of new Y array: (514, 1)\n"
     ]
    }
   ],
   "source": [
    "X_sklearn = X.to_numpy()[:, np.newaxis]\n",
    "Y_sklearn = Y.to_numpy()[:, np.newaxis]\n",
    "\n",
    "print(f\"Shape of new X array: {X_sklearn.shape}\")\n",
    "print(f\"Shape of new Y array: {Y_sklearn.shape}\")"
   ]
  },
  {
   "cell_type": "markdown",
   "id": "7c9b84ea",
   "metadata": {},
   "source": [
    "Fitting the linear regression model passing X_sklearn and Y_sklearn arrays into the function lr_sklearn.fit"
   ]
  },
  {
   "cell_type": "code",
   "execution_count": 25,
   "id": "2772bd56",
   "metadata": {},
   "outputs": [
    {
     "data": {
      "text/html": [
       "<style>#sk-container-id-1 {color: black;}#sk-container-id-1 pre{padding: 0;}#sk-container-id-1 div.sk-toggleable {background-color: white;}#sk-container-id-1 label.sk-toggleable__label {cursor: pointer;display: block;width: 100%;margin-bottom: 0;padding: 0.3em;box-sizing: border-box;text-align: center;}#sk-container-id-1 label.sk-toggleable__label-arrow:before {content: \"▸\";float: left;margin-right: 0.25em;color: #696969;}#sk-container-id-1 label.sk-toggleable__label-arrow:hover:before {color: black;}#sk-container-id-1 div.sk-estimator:hover label.sk-toggleable__label-arrow:before {color: black;}#sk-container-id-1 div.sk-toggleable__content {max-height: 0;max-width: 0;overflow: hidden;text-align: left;background-color: #f0f8ff;}#sk-container-id-1 div.sk-toggleable__content pre {margin: 0.2em;color: black;border-radius: 0.25em;background-color: #f0f8ff;}#sk-container-id-1 input.sk-toggleable__control:checked~div.sk-toggleable__content {max-height: 200px;max-width: 100%;overflow: auto;}#sk-container-id-1 input.sk-toggleable__control:checked~label.sk-toggleable__label-arrow:before {content: \"▾\";}#sk-container-id-1 div.sk-estimator input.sk-toggleable__control:checked~label.sk-toggleable__label {background-color: #d4ebff;}#sk-container-id-1 div.sk-label input.sk-toggleable__control:checked~label.sk-toggleable__label {background-color: #d4ebff;}#sk-container-id-1 input.sk-hidden--visually {border: 0;clip: rect(1px 1px 1px 1px);clip: rect(1px, 1px, 1px, 1px);height: 1px;margin: -1px;overflow: hidden;padding: 0;position: absolute;width: 1px;}#sk-container-id-1 div.sk-estimator {font-family: monospace;background-color: #f0f8ff;border: 1px dotted black;border-radius: 0.25em;box-sizing: border-box;margin-bottom: 0.5em;}#sk-container-id-1 div.sk-estimator:hover {background-color: #d4ebff;}#sk-container-id-1 div.sk-parallel-item::after {content: \"\";width: 100%;border-bottom: 1px solid gray;flex-grow: 1;}#sk-container-id-1 div.sk-label:hover label.sk-toggleable__label {background-color: #d4ebff;}#sk-container-id-1 div.sk-serial::before {content: \"\";position: absolute;border-left: 1px solid gray;box-sizing: border-box;top: 0;bottom: 0;left: 50%;z-index: 0;}#sk-container-id-1 div.sk-serial {display: flex;flex-direction: column;align-items: center;background-color: white;padding-right: 0.2em;padding-left: 0.2em;position: relative;}#sk-container-id-1 div.sk-item {position: relative;z-index: 1;}#sk-container-id-1 div.sk-parallel {display: flex;align-items: stretch;justify-content: center;background-color: white;position: relative;}#sk-container-id-1 div.sk-item::before, #sk-container-id-1 div.sk-parallel-item::before {content: \"\";position: absolute;border-left: 1px solid gray;box-sizing: border-box;top: 0;bottom: 0;left: 50%;z-index: -1;}#sk-container-id-1 div.sk-parallel-item {display: flex;flex-direction: column;z-index: 1;position: relative;background-color: white;}#sk-container-id-1 div.sk-parallel-item:first-child::after {align-self: flex-end;width: 50%;}#sk-container-id-1 div.sk-parallel-item:last-child::after {align-self: flex-start;width: 50%;}#sk-container-id-1 div.sk-parallel-item:only-child::after {width: 0;}#sk-container-id-1 div.sk-dashed-wrapped {border: 1px dashed gray;margin: 0 0.4em 0.5em 0.4em;box-sizing: border-box;padding-bottom: 0.4em;background-color: white;}#sk-container-id-1 div.sk-label label {font-family: monospace;font-weight: bold;display: inline-block;line-height: 1.2em;}#sk-container-id-1 div.sk-label-container {text-align: center;}#sk-container-id-1 div.sk-container {/* jupyter's `normalize.less` sets `[hidden] { display: none; }` but bootstrap.min.css set `[hidden] { display: none !important; }` so we also need the `!important` here to be able to override the default hidden behavior on the sphinx rendered scikit-learn.org. See: https://github.com/scikit-learn/scikit-learn/issues/21755 */display: inline-block !important;position: relative;}#sk-container-id-1 div.sk-text-repr-fallback {display: none;}</style><div id=\"sk-container-id-1\" class=\"sk-top-container\"><div class=\"sk-text-repr-fallback\"><pre>LinearRegression()</pre><b>In a Jupyter environment, please rerun this cell to show the HTML representation or trust the notebook. <br />On GitHub, the HTML representation is unable to render, please try loading this page with nbviewer.org.</b></div><div class=\"sk-container\" hidden><div class=\"sk-item\"><div class=\"sk-estimator sk-toggleable\"><input class=\"sk-toggleable__control sk-hidden--visually\" id=\"sk-estimator-id-1\" type=\"checkbox\" checked><label for=\"sk-estimator-id-1\" class=\"sk-toggleable__label sk-toggleable__label-arrow\">LinearRegression</label><div class=\"sk-toggleable__content\"><pre>LinearRegression()</pre></div></div></div></div></div>"
      ],
      "text/plain": [
       "LinearRegression()"
      ]
     },
     "execution_count": 25,
     "metadata": {},
     "output_type": "execute_result"
    }
   ],
   "source": [
    "lr_sklearn.fit(X_sklearn, Y_sklearn)"
   ]
  },
  {
   "cell_type": "code",
   "execution_count": 26,
   "id": "f896c4f8",
   "metadata": {},
   "outputs": [
    {
     "name": "stdout",
     "output_type": "stream",
     "text": [
      "Linear regression using Scikit-Learn. Slope: [[-0.00041467]]. Intercept: [3.51389972]\n"
     ]
    }
   ],
   "source": [
    "m_sklearn = lr_sklearn.coef_\n",
    "b_sklearn = lr_sklearn.intercept_\n",
    "\n",
    "print(f\"Linear regression using Scikit-Learn. Slope: {m_sklearn}. Intercept: {b_sklearn}\")"
   ]
  },
  {
   "cell_type": "markdown",
   "id": "330fe5ae",
   "metadata": {},
   "source": [
    "Note that you have got the similar result as with the `NumPy` function `polyfit`. Now, to make predictions it is convenient to use `Scikit-Learn` function `predict`. "
   ]
  },
  {
   "cell_type": "markdown",
   "id": "9f63d052",
   "metadata": {},
   "source": [
    "Increase the dimension of the $X$ array using the function `np.newaxis` (see an example above) and pass the result to the `lr_sklearn.predict` function to make predictions."
   ]
  },
  {
   "cell_type": "code",
   "execution_count": 27,
   "id": "53029d67",
   "metadata": {},
   "outputs": [],
   "source": [
    "def pred_sklearn(X, lr_sklearn):\n",
    "    X_2D = X[:, np.newaxis]\n",
    "    Y = lr_sklearn.predict(X_2D)\n",
    "    return Y"
   ]
  },
  {
   "cell_type": "code",
   "execution_count": 28,
   "id": "4f41ec64",
   "metadata": {},
   "outputs": [
    {
     "name": "stdout",
     "output_type": "stream",
     "text": [
      "Medium household income:\n",
      "[8.1257 6.0431 2.9431]\n",
      "Predictions of bedrooms using Scikit_Learn linear regression:\n",
      "[[3.51053027 3.51139385 3.51267931]]\n"
     ]
    }
   ],
   "source": [
    "Y_pred_sklearn = pred_sklearn(X_pred, lr_sklearn)\n",
    "\n",
    "print(f\"Medium household income:\\n{X_pred}\")\n",
    "print(f\"Predictions of bedrooms using Scikit_Learn linear regression:\\n{Y_pred_sklearn.T}\")"
   ]
  },
  {
   "cell_type": "markdown",
   "id": "54db36a4",
   "metadata": {},
   "source": [
    "The predicted values are also the same."
   ]
  },
  {
   "cell_type": "markdown",
   "id": "c47bc685",
   "metadata": {},
   "source": [
    "## Linear Regression using Gradient Descent"
   ]
  },
  {
   "cell_type": "markdown",
   "id": "a671297c",
   "metadata": {},
   "source": [
    "Functions to fit the models automatically are convenient to use, but for an in-depth understanding of the model and the maths behind it is good to implement an algorithm by yourself. Let's try to find linear regression coefficients $m$ and $b$, by minimising the difference between original values $y^{(i)}$ and predicted values $\\hat{y}^{(i)}$ with the **loss function** $L\\left(w, b\\right)  = \\frac{1}{2}\\left(\\hat{y}^{(i)} - y^{(i)}\\right)^2$ for each of the training examples. Division by $2$ is taken just for scaling purposes, you will see the reason below, calculating partial derivatives.\n",
    "\n",
    "To compare the resulting vector of the predictions $\\hat{Y}$ with the vector $Y$ of original values $y^{(i)}$, you can take an average of the loss function values for each of the training examples:\n",
    "\n",
    "$$E\\left(m, b\\right) = \\frac{1}{2n}\\sum_{i=1}^{n} \\left(\\hat{y}^{(i)} - y^{(i)}\\right)^2 = \n",
    "\\frac{1}{2n}\\sum_{i=1}^{n} \\left(mx^{(i)}+b - y^{(i)}\\right)^2,\\tag{1}$$\n",
    "\n",
    "where $n$ is a number of data points. This function is called the sum of squares **cost function**. To use gradient descent algorithm, calculate partial derivatives as:\n",
    "\n",
    "\\begin{align}\n",
    "\\frac{\\partial E }{ \\partial m } &= \n",
    "\\frac{1}{n}\\sum_{i=1}^{n} \\left(mx^{(i)}+b - y^{(i)}\\right)x^{(i)},\\\\\n",
    "\\frac{\\partial E }{ \\partial b } &= \n",
    "\\frac{1}{n}\\sum_{i=1}^{n} \\left(mx^{(i)}+b - y^{(i)}\\right),\n",
    "\\tag{2}\\end{align}\n",
    "\n",
    "and update the parameters iteratively using the expressions\n",
    "\n",
    "\\begin{align}\n",
    "m &= m - \\alpha \\frac{\\partial E }{ \\partial m },\\\\\n",
    "b &= b - \\alpha \\frac{\\partial E }{ \\partial b },\n",
    "\\tag{3}\\end{align}\n",
    "\n",
    "where $\\alpha$ is the learning rate."
   ]
  },
  {
   "cell_type": "markdown",
   "id": "8272de35",
   "metadata": {},
   "source": [
    "Original arrays `X` and `Y` have different units. To make gradient descent algorithm efficient, you need to bring them to the same units. A common approach to it is called **normalization**: substract the mean value of the array from each of the elements in the array and divide them by standard deviation (a statistical measure of the amount of dispersion of a set of values). If you are not familiar with mean and standard deviation, do not worry about this for now - this is covered in the next Course of Specialization.\n",
    "\n",
    "Normalization is not compulsory - gradient descent would work without it. But due to different units of `X` and `Y`, the cost function will be much steeper. Then you would need to take a significantly smaller learning rate $\\alpha$, and the algorithm will require thousands of iterations to converge instead of a few dozens. Normalization helps to increase the efficiency of the gradient descent algorithm.\n",
    "\n",
    "Normalization is implemented in the following code:"
   ]
  },
  {
   "cell_type": "code",
   "execution_count": 29,
   "id": "2d51174c",
   "metadata": {},
   "outputs": [],
   "source": [
    "X_norm = (X - np.mean(X))/np.std(X)\n",
    "Y_norm = (Y - np.mean(Y))/np.std(Y)"
   ]
  },
  {
   "cell_type": "code",
   "execution_count": 30,
   "id": "6ce3a402",
   "metadata": {},
   "outputs": [
    {
     "data": {
      "text/plain": [
       "0     -0.962366\n",
       "1      2.387830\n",
       "2     -0.753193\n",
       "3     -0.598886\n",
       "4     -0.444578\n",
       "         ...   \n",
       "511   -0.255979\n",
       "512   -0.149678\n",
       "513   -0.098242\n",
       "514   -0.046806\n",
       "515   -0.561166\n",
       "Name: total_bedrooms, Length: 514, dtype: float64"
      ]
     },
     "execution_count": 30,
     "metadata": {},
     "output_type": "execute_result"
    }
   ],
   "source": [
    "X_norm \n"
   ]
  },
  {
   "cell_type": "code",
   "execution_count": 31,
   "id": "2f950c25",
   "metadata": {},
   "outputs": [
    {
     "data": {
      "text/plain": [
       "0      2.481499\n",
       "1      2.469643\n",
       "2      1.949547\n",
       "3      1.145341\n",
       "4      0.250168\n",
       "         ...   \n",
       "511    5.058964\n",
       "512    4.418708\n",
       "513    2.412751\n",
       "514    4.501704\n",
       "515    1.270732\n",
       "Name: median_income, Length: 514, dtype: float64"
      ]
     },
     "execution_count": 31,
     "metadata": {},
     "output_type": "execute_result"
    }
   ],
   "source": [
    "Y_norm "
   ]
  },
  {
   "cell_type": "code",
   "execution_count": 32,
   "id": "95a98ee1",
   "metadata": {},
   "outputs": [],
   "source": [
    "# Define cost function\n",
    "def E(m, b, X, Y):\n",
    "    return 1/(2*len(Y))*np.sum((m*X + b - Y)**2)"
   ]
  },
  {
   "cell_type": "markdown",
   "id": "4bcefcbd",
   "metadata": {},
   "source": [
    "Define functions dEdm and dEdb to calculate partial derivatives. This can be done using vector form of the input data X and Y."
   ]
  },
  {
   "cell_type": "code",
   "execution_count": 36,
   "id": "624213ab",
   "metadata": {},
   "outputs": [],
   "source": [
    "#partial derivative of E with respect to m\n",
    "def dEdm(m, b, X, Y):\n",
    "    res = 1/len(X)*np.dot(m*X + b - Y, X)  \n",
    "    return res\n",
    "    \n",
    "#partial derivative of E with respect to b\n",
    "def dEdb(m, b, X, Y):\n",
    "    res = 1/len(X)*np.sum(m*X + b - Y)\n",
    "    return res\n"
   ]
  },
  {
   "cell_type": "code",
   "execution_count": 35,
   "id": "302194e2",
   "metadata": {},
   "outputs": [
    {
     "name": "stdout",
     "output_type": "stream",
     "text": [
      "0.060242796031154136\n",
      "2.764757726692997e-16\n",
      "2.0602427960311536\n",
      "8.0\n"
     ]
    }
   ],
   "source": [
    "print(dEdm(0, 0, X_norm, Y_norm))\n",
    "print(dEdb(0, 0, X_norm, Y_norm))\n",
    "print(dEdm(2, 8, X_norm, Y_norm))\n",
    "print(dEdb(2, 8, X_norm, Y_norm))"
   ]
  },
  {
   "cell_type": "markdown",
   "id": "79557d1b",
   "metadata": {},
   "source": [
    "**Implementing gradient descent using expressions** $(3)$:\n",
    "\\begin{align}\n",
    "m &= m - \\alpha \\frac{\\partial E }{ \\partial m },\\\\\n",
    "b &= b - \\alpha \\frac{\\partial E }{ \\partial b },\n",
    "\\end{align}\n",
    "\n",
    "where $\\alpha$ is the `learning_rate`."
   ]
  },
  {
   "cell_type": "code",
   "execution_count": 41,
   "id": "09db5690",
   "metadata": {},
   "outputs": [],
   "source": [
    "def gradient_descent(dEdm, dEdb, m, b, X, Y, learning_rate = 0.001, num_iterations = 1000, print_cost=False):\n",
    "    for iteration in range(num_iterations):\n",
    "        m_new = m - learning_rate*dEdm(m,b,X,Y)\n",
    "        b_new = b - learning_rate*dEdb(m,b,X,Y)\n",
    "        m = m_new\n",
    "        b = b_new\n",
    "        if print_cost:\n",
    "            print (f\"Cost after iteration {iteration}: {E(m, b, X, Y)}\")\n",
    "        \n",
    "    return m, b"
   ]
  },
  {
   "cell_type": "code",
   "execution_count": 42,
   "id": "26778615",
   "metadata": {},
   "outputs": [
    {
     "name": "stdout",
     "output_type": "stream",
     "text": [
      "(-0.038091795555088376, -1.8383565314213291e-16)\n",
      "(0.8986217838566376, 4.521910375044022)\n"
     ]
    }
   ],
   "source": [
    "print(gradient_descent(dEdm, dEdb, 0, 0, X_norm, Y_norm))\n",
    "print(gradient_descent(dEdm, dEdb, 1, 5, X_norm, Y_norm, learning_rate = 0.01, num_iterations = 10))"
   ]
  },
  {
   "cell_type": "code",
   "execution_count": 43,
   "id": "d75d69f5",
   "metadata": {},
   "outputs": [
    {
     "name": "stdout",
     "output_type": "stream",
     "text": [
      "Cost after iteration 0: 0.4982579866526474\n",
      "Cost after iteration 1: 0.4981883061187534\n",
      "Cost after iteration 2: 0.4981855188973977\n",
      "Cost after iteration 3: 0.4981854074085434\n",
      "Cost after iteration 4: 0.49818540294898916\n",
      "Cost after iteration 5: 0.498185402770607\n",
      "Cost after iteration 6: 0.49818540276347184\n",
      "Cost after iteration 7: 0.4981854027631863\n",
      "Cost after iteration 8: 0.498185402763175\n",
      "Cost after iteration 9: 0.49818540276317447\n",
      "Cost after iteration 10: 0.49818540276317447\n",
      "Cost after iteration 11: 0.49818540276317447\n",
      "Cost after iteration 12: 0.49818540276317447\n",
      "Cost after iteration 13: 0.49818540276317447\n",
      "Cost after iteration 14: 0.49818540276317447\n",
      "Cost after iteration 15: 0.49818540276317447\n",
      "Cost after iteration 16: 0.49818540276317447\n",
      "Cost after iteration 17: 0.49818540276317447\n",
      "Cost after iteration 18: 0.49818540276317447\n",
      "Cost after iteration 19: 0.49818540276317447\n",
      "Cost after iteration 20: 0.49818540276317447\n",
      "Cost after iteration 21: 0.49818540276317447\n",
      "Cost after iteration 22: 0.49818540276317447\n",
      "Cost after iteration 23: 0.49818540276317447\n",
      "Cost after iteration 24: 0.49818540276317447\n",
      "Cost after iteration 25: 0.49818540276317447\n",
      "Cost after iteration 26: 0.49818540276317447\n",
      "Cost after iteration 27: 0.49818540276317447\n",
      "Cost after iteration 28: 0.49818540276317447\n",
      "Cost after iteration 29: 0.49818540276317447\n",
      "Gradient descent result: m_min, b_min = -0.060242796031154164, -2.9029956130276467e-16\n"
     ]
    }
   ],
   "source": [
    "# Now run the gradient descent method starting from the initial point  (𝑚0,𝑏0)=(0,0)\n",
    "m_initial = 0; b_initial = 0; num_iterations = 30; learning_rate = 1.2\n",
    "m_gd, b_gd = gradient_descent(dEdm, dEdb, m_initial, b_initial, \n",
    "                              X_norm, Y_norm, learning_rate, num_iterations, print_cost=True)\n",
    "\n",
    "print(f\"Gradient descent result: m_min, b_min = {m_gd}, {b_gd}\") "
   ]
  },
  {
   "cell_type": "markdown",
   "id": "f4291aa9",
   "metadata": {},
   "source": [
    "Remember, that the initial datasets were normalized. To make the predictions, you need to normalize `X_pred` array, calculate `Y_pred` with the linear regression coefficients `m_gd`, `b_gd` and then **denormalize** the result (perform the reverse process of normalization):"
   ]
  },
  {
   "cell_type": "code",
   "execution_count": 44,
   "id": "ecda3b93",
   "metadata": {},
   "outputs": [
    {
     "name": "stdout",
     "output_type": "stream",
     "text": [
      "Medium household income::\n",
      "[ 50 120 280]\n",
      "Predictions of bedrooms using Scikit_Learn linear regression:\n",
      "[[3.51053027 3.51139385 3.51267931]]\n",
      "Predictions of bedrooms using Gradient Descent:\n",
      "[3.49316644 3.46413986 3.39779339]\n"
     ]
    }
   ],
   "source": [
    "X_pred = np.array([50, 120, 280])\n",
    "# Use the same mean and standard deviation of the original training array X\n",
    "X_pred_norm = (X_pred - np.mean(X))/np.std(X)\n",
    "Y_pred_gd_norm = m_gd * X_pred_norm + b_gd\n",
    "# Use the same mean and standard deviation of the original training array Y\n",
    "Y_pred_gd = Y_pred_gd_norm * np.std(Y) + np.mean(Y)\n",
    "\n",
    "print(f\"Medium household income::\\n{X_pred}\")\n",
    "print(f\"Predictions of bedrooms using Scikit_Learn linear regression:\\n{Y_pred_sklearn.T}\")\n",
    "print(f\"Predictions of bedrooms using Gradient Descent:\\n{Y_pred_gd}\")"
   ]
  },
  {
   "cell_type": "markdown",
   "id": "752ef8e7",
   "metadata": {},
   "source": [
    "Now comparing the prediction results of the three methodologies used in the optimization scenarios:\n",
    "Predictions of bedrooms using NumPy linear regression:\n",
    "[3.51053027 3.51139385 3.51267931]\n",
    "Predictions of bedrooms using Scikit_Learn linear regression:\n",
    "[[3.51053027 3.51139385 3.51267931]]\n",
    "Predictions of bedrooms using Gradient Descent:\n",
    "[3.49316644 3.46413986 3.39779339]"
   ]
  },
  {
   "cell_type": "code",
   "execution_count": null,
   "id": "1df1df72",
   "metadata": {},
   "outputs": [],
   "source": []
  }
 ],
 "metadata": {
  "kernelspec": {
   "display_name": "Python 3 (ipykernel)",
   "language": "python",
   "name": "python3"
  },
  "language_info": {
   "codemirror_mode": {
    "name": "ipython",
    "version": 3
   },
   "file_extension": ".py",
   "mimetype": "text/x-python",
   "name": "python",
   "nbconvert_exporter": "python",
   "pygments_lexer": "ipython3",
   "version": "3.11.5"
  }
 },
 "nbformat": 4,
 "nbformat_minor": 5
}
