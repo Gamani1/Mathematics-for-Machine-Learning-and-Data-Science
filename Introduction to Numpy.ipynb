{
 "cells": [
  {
   "cell_type": "markdown",
   "id": "562ba48f",
   "metadata": {},
   "source": [
    " # INTRODUCTION TO NUMPY FOR PYTHON MATRICES #\n",
    " "
   ]
  },
  {
   "cell_type": "code",
   "execution_count": 1,
   "id": "45fca2b2",
   "metadata": {},
   "outputs": [],
   "source": [
    "# Importing the numpy package to work with #\n",
    "\n",
    "import numpy as np"
   ]
  },
  {
   "cell_type": "code",
   "execution_count": 8,
   "id": "60a6ee78",
   "metadata": {},
   "outputs": [
    {
     "name": "stdout",
     "output_type": "stream",
     "text": [
      "[2 7 9]\n"
     ]
    }
   ],
   "source": [
    "# defining arrays in 1-dimensions #\n",
    "\n",
    "one_D = np.array([2,7,9])\n",
    "print(one_D)"
   ]
  },
  {
   "cell_type": "code",
   "execution_count": 16,
   "id": "88edb0dd",
   "metadata": {},
   "outputs": [
    {
     "name": "stdout",
     "output_type": "stream",
     "text": [
      "[1 5 7]\n"
     ]
    }
   ],
   "source": [
    "# defining the matrices in one direction #\n",
    "\n",
    "increment_of_3 = np.array([1,5,7])\n",
    "print(increment_of_3)"
   ]
  },
  {
   "cell_type": "code",
   "execution_count": 17,
   "id": "1034145d",
   "metadata": {},
   "outputs": [
    {
     "name": "stdout",
     "output_type": "stream",
     "text": [
      "[0 1 2 3 4]\n"
     ]
    }
   ],
   "source": [
    "# usung the np.arange fuction to defime, creating an array of 3 integers starting from 0 #\n",
    "\n",
    "a = np.arange(5)\n",
    "print(a)"
   ]
  },
  {
   "cell_type": "code",
   "execution_count": 19,
   "id": "be5f20ce",
   "metadata": {},
   "outputs": [
    {
     "name": "stdout",
     "output_type": "stream",
     "text": [
      "[ 3  6  9 12 15 18 21 24 27]\n"
     ]
    }
   ],
   "source": [
    "\n",
    "# create an array with an interval and an increment of 3  #\n",
    "\n",
    "b= np.arange(3,30,3)\n",
    "print(b)"
   ]
  },
  {
   "cell_type": "code",
   "execution_count": 21,
   "id": "1796bf37",
   "metadata": {},
   "outputs": [
    {
     "name": "stdout",
     "output_type": "stream",
     "text": [
      "[  0.  25.  50.  75. 100.]\n"
     ]
    }
   ],
   "source": [
    "# using the np.linspace to define a lager matrix #\n",
    "\n",
    "c = np.linspace(0,100,5)\n",
    "print(c)"
   ]
  },
  {
   "cell_type": "code",
   "execution_count": 3,
   "id": "4bfdf7fb",
   "metadata": {},
   "outputs": [
    {
     "name": "stdout",
     "output_type": "stream",
     "text": [
      "[  0  25  50  75 100]\n"
     ]
    }
   ],
   "source": [
    "# Since the characters generated are floating numbers,we might want to change the data type to integers, you need to set the dtype to int. #\n",
    "\n",
    "c_int = np.linspace(0,100,5, dtype=int )\n",
    "print(c_int)"
   ]
  },
  {
   "cell_type": "markdown",
   "id": "8c2325cb",
   "metadata": {},
   "source": [
    " # Multidimensional Arrays #"
   ]
  },
  {
   "cell_type": "raw",
   "id": "6fcaaa06",
   "metadata": {},
   "source": [
    "With NumPy you can also create arrays with more than one dimension. In the above examples, you dealt with 1-D arrays, where you can access their elements using a single index. A multidimensional array has more than one column. Think of a multidimensional array as an excel sheet where each row/column represents a dimension. "
   ]
  },
  {
   "cell_type": "code",
   "execution_count": 9,
   "id": "2a7b2fbe",
   "metadata": {},
   "outputs": [
    {
     "name": "stdout",
     "output_type": "stream",
     "text": [
      "[[1 2 3]\n",
      " [4 5 6]]\n"
     ]
    }
   ],
   "source": [
    "# Create a 2 dimensional array (2-D)\n",
    "two_D_arr = np.array([[1,2,3], [4,5,6]])\n",
    "print(two_D_arr)"
   ]
  },
  {
   "cell_type": "raw",
   "id": "c027b8c5",
   "metadata": {},
   "source": [
    "An alternative way to create a multidimensional array is by reshaping the initial 1-D array. Using np.reshape() you can rearrange elements of the previous array into a new shape."
   ]
  },
  {
   "cell_type": "code",
   "execution_count": 20,
   "id": "67e4794c",
   "metadata": {},
   "outputs": [
    {
     "name": "stdout",
     "output_type": "stream",
     "text": [
      "[[1 2 3]\n",
      " [4 5 6]]\n"
     ]
    }
   ],
   "source": [
    "# creating a 1_D array\n",
    "\n",
    "one_D_arr = np.array([1,2,3,4,5,6])\n",
    "\n",
    "# creating a 2_D array from 1_D array\n",
    "\n",
    "multi_D_arr = np.reshape( one_D_arr ,  #array to be reshaped\n",
    "                        (2,3)      # dimension of array\n",
    "                        )\n",
    "#print the new 2 _rows, 3_columns array\n",
    "print(multi_D_arr)"
   ]
  },
  {
   "cell_type": "code",
   "execution_count": 27,
   "id": "012d1246",
   "metadata": {},
   "outputs": [
    {
     "name": "stdout",
     "output_type": "stream",
     "text": [
      "[[1 2 3]\n",
      " [4 5 6]]\n"
     ]
    }
   ],
   "source": [
    "# creating a 1_D array\n",
    "\n",
    "one_D_arr = np.array([1,2,3,4,5,6])\n",
    "\n",
    "# creating a 2_d array\n",
    "\n",
    "two_d_arr = np.reshape(one_d_arr ,\n",
    "                       (2,3)\n",
    "                        )\n",
    "print(two_d_arr)"
   ]
  },
  {
   "cell_type": "code",
   "execution_count": 28,
   "id": "64b9f124",
   "metadata": {},
   "outputs": [
    {
     "name": "stdout",
     "output_type": "stream",
     "text": [
      "[[1 2 3]\n",
      " [4 5 6]\n",
      " [7 8 9]]\n"
     ]
    }
   ],
   "source": [
    "# creating a 1_D array\n",
    "\n",
    "one_D_arr = np.array([1,2,3,4,5,6,7,8,9])\n",
    "\n",
    "# creating a 3_D array from 1_D array\n",
    "\n",
    "multi_D_arr = np.reshape( \n",
    "    one_D_arr ,  #array to be reshaped\n",
    "    (3,3)     # dimension of array\n",
    "                        )\n",
    "#print the new 2 _rows, 3_columns array\n",
    "print(multi_D_arr)"
   ]
  },
  {
   "cell_type": "markdown",
   "id": "5577c1c1",
   "metadata": {},
   "source": [
    "# Finding size, shape and dimension"
   ]
  },
  {
   "cell_type": "raw",
   "id": "6a3c56cf",
   "metadata": {},
   "source": [
    "These are all atrributes of a ndarray and can be accessed as follows:\n",
    "\n",
    "ndarray.ndim - Stores the number dimensions of the array.\n",
    "ndarray.shape - Stores the shape of the array. Each number in the tuple denotes the lengths of each corresponding dimension.\n",
    "ndarray.size - Stores the number of elements in the arra"
   ]
  },
  {
   "cell_type": "code",
   "execution_count": 30,
   "id": "9b7da349",
   "metadata": {},
   "outputs": [
    {
     "data": {
      "text/plain": [
       "2"
      ]
     },
     "execution_count": 30,
     "metadata": {},
     "output_type": "execute_result"
    }
   ],
   "source": [
    "# finding the dimension of the array\n",
    "\n",
    "multi_D_arr.ndim"
   ]
  },
  {
   "cell_type": "code",
   "execution_count": 31,
   "id": "ec046697",
   "metadata": {},
   "outputs": [
    {
     "data": {
      "text/plain": [
       "9"
      ]
     },
     "execution_count": 31,
     "metadata": {},
     "output_type": "execute_result"
    }
   ],
   "source": [
    "# finding the size of the array\n",
    "# returns the total number of elements in the array\n",
    "\n",
    "multi_D_arr.size"
   ]
  },
  {
   "cell_type": "code",
   "execution_count": 33,
   "id": "51bd916a",
   "metadata": {},
   "outputs": [
    {
     "data": {
      "text/plain": [
       "(3, 3)"
      ]
     },
     "execution_count": 33,
     "metadata": {},
     "output_type": "execute_result"
    }
   ],
   "source": [
    "# finding the shape of the array\n",
    "# returns the a 3 by 3 array\n",
    "\n",
    "multi_D_arr.shape"
   ]
  },
  {
   "cell_type": "markdown",
   "id": "824aeb47",
   "metadata": {},
   "source": [
    "#  Array math operations"
   ]
  },
  {
   "cell_type": "raw",
   "id": "7ebdf21e",
   "metadata": {},
   "source": [
    "In this section, you will see that NumPy allows you to quickly perform elementwise addition, substraction, multiplication and division for both 1-D and multidimensional arrays. The operations are performed using the math symbol for each '+', '-' and '*'. Recall that addition of Python lists works completely differently as it would append the lists, thus making a longer list, in addition, subtraction and multiplication of Python lists do not work."
   ]
  },
  {
   "cell_type": "code",
   "execution_count": 2,
   "id": "e30e8f25",
   "metadata": {},
   "outputs": [
    {
     "name": "stdout",
     "output_type": "stream",
     "text": [
      "[10  7 15]\n"
     ]
    }
   ],
   "source": [
    "# addition of 1_D arrays\n",
    "# defining the arrays\n",
    "\n",
    "arr_1 = np.array([2,4,6])\n",
    "arr_2 = np.array([8,3,9])\n",
    "\n",
    "# addition of the arrays\n",
    "\n",
    "add_arr = arr_1 + arr_2\n",
    "\n",
    "# print results\n",
    "\n",
    "print(add_arr)\n",
    "\n"
   ]
  },
  {
   "cell_type": "code",
   "execution_count": 3,
   "id": "88f5b7fd",
   "metadata": {},
   "outputs": [
    {
     "name": "stdout",
     "output_type": "stream",
     "text": [
      "[-6  1 -3]\n"
     ]
    }
   ],
   "source": [
    "# subtracting the arrays\n",
    "\n",
    "subtr_arr = arr_1 - arr_2\n",
    "\n",
    "# print results\n",
    "\n",
    "print(subtr_arr)"
   ]
  },
  {
   "cell_type": "raw",
   "id": "9f44b3eb",
   "metadata": {},
   "source": [
    "# multiplying the arrays\n",
    "\n",
    "multp_arr = arr_1 * arr_2\n",
    "\n",
    "# display results\n",
    "\n",
    "print(multp_arr)"
   ]
  },
  {
   "cell_type": "markdown",
   "id": "a1d990a3",
   "metadata": {},
   "source": [
    "# Multiplying vector with a scalar (broadcasting)"
   ]
  },
  {
   "cell_type": "markdown",
   "id": "ba067faf",
   "metadata": {},
   "source": [
    "Suppose you need to convert miles to kilometers. To do so, you can use the NumPy array functions that you've learned so far. You can do this by carrying out an operation between an array (miles) and a single number (the conversion rate which is a scalar). Since, 1 mile = 1.6 km, NumPy computes each multiplication within each cell.\n",
    "\n",
    "This concept is called broadcasting, which allows you to perform operations specifically on arrays of different shapes"
   ]
  },
  {
   "cell_type": "code",
   "execution_count": 5,
   "id": "bf7c7f8e",
   "metadata": {},
   "outputs": [
    {
     "data": {
      "text/plain": [
       "array([ 3.8,  7.6, 11.4])"
      ]
     },
     "execution_count": 5,
     "metadata": {},
     "output_type": "execute_result"
    }
   ],
   "source": [
    "vector = np.array([2,4,6])\n",
    "vector * 1.9"
   ]
  },
  {
   "cell_type": "markdown",
   "id": "8b8695e0",
   "metadata": {},
   "source": [
    "# Indexing and slicing"
   ]
  },
  {
   "cell_type": "markdown",
   "id": "a1ff6e79",
   "metadata": {},
   "source": [
    "Indexing is very useful as it allows you to select specific elements from an array. It also lets you select entire rows/columns or planes as you'll see in future assignments for multidimensional arrays."
   ]
  },
  {
   "cell_type": "markdown",
   "id": "b4086922",
   "metadata": {},
   "source": [
    "# Indexing"
   ]
  },
  {
   "cell_type": "markdown",
   "id": "8c0d484f",
   "metadata": {},
   "source": [
    "Let us select specific elements from the arrays as given."
   ]
  },
  {
   "cell_type": "code",
   "execution_count": 7,
   "id": "429b6b68",
   "metadata": {},
   "outputs": [
    {
     "name": "stdout",
     "output_type": "stream",
     "text": [
      "3\n",
      "1\n"
     ]
    }
   ],
   "source": [
    "# selecting the 3rd element,counting starts from 0\n",
    "\n",
    "a = np.array([1,2,3,4,5])\n",
    "\n",
    "print(a[2])\n",
    "\n",
    "print(a[0])"
   ]
  },
  {
   "cell_type": "raw",
   "id": "95d0a963",
   "metadata": {},
   "source": [
    "For multidimensional arrays of shape n, to index a specific element, you must input n indices, one for each dimension."
   ]
  },
  {
   "cell_type": "code",
   "execution_count": 12,
   "id": "03af7e04",
   "metadata": {},
   "outputs": [
    {
     "name": "stdout",
     "output_type": "stream",
     "text": [
      "8\n",
      "8\n"
     ]
    }
   ],
   "source": [
    "two_D = np.array(([1,2,3],\n",
    "             [4,5,6],\n",
    "             [7,8,9]))\n",
    "\n",
    "# creating a 2-dimensional NumPy array named two_dim, and then selecting the element at row index 2 and column index 1 (using 0-based indexing) which has the value 8. \n",
    "#The syntax used for indexing the 2-D array is two_dim[i][j]\n",
    "\n",
    "print(two_D[2][1])\n",
    "print(two_D[2,1])"
   ]
  },
  {
   "cell_type": "markdown",
   "id": "6a9143db",
   "metadata": {},
   "source": [
    "# Slicing"
   ]
  },
  {
   "cell_type": "raw",
   "id": "d46beca0",
   "metadata": {},
   "source": [
    "Slicing gives you a sublist of elements that you specify from the array. The slice notation specifies a start and end value, and copies the list from start up to but not including the end (end-exclusive).\n",
    "\n",
    "The syntax is:\n",
    "\n",
    "array[start:end:step]\n",
    "\n",
    "If no value is passed to start, it is assumed start = 0, if no value is passed to end, it is assumed that end = length of array - 1 and if no value is passed to step, it is assumed step = 1."
   ]
  },
  {
   "cell_type": "code",
   "execution_count": 13,
   "id": "cf644839",
   "metadata": {},
   "outputs": [
    {
     "name": "stdout",
     "output_type": "stream",
     "text": [
      "[2 3 4]\n"
     ]
    }
   ],
   "source": [
    "# Slice the array a to get the array [2,3,4]\n",
    "sliced_arr = a[1:4]\n",
    "print(sliced_arr)"
   ]
  },
  {
   "cell_type": "code",
   "execution_count": 14,
   "id": "7adb025c",
   "metadata": {},
   "outputs": [
    {
     "name": "stdout",
     "output_type": "stream",
     "text": [
      "[1 2 3]\n"
     ]
    }
   ],
   "source": [
    "# Slice the array a to get the array [1,2,3]\n",
    "sliced_arr = a[:3]\n",
    "print(sliced_arr)"
   ]
  },
  {
   "cell_type": "code",
   "execution_count": 15,
   "id": "f42ee5dd",
   "metadata": {},
   "outputs": [
    {
     "name": "stdout",
     "output_type": "stream",
     "text": [
      "[3 4 5]\n"
     ]
    }
   ],
   "source": [
    "# Slice the array a to get the array [3,4,5]\n",
    "sliced_arr = a[2:]\n",
    "print(sliced_arr)"
   ]
  },
  {
   "cell_type": "code",
   "execution_count": 16,
   "id": "85059757",
   "metadata": {},
   "outputs": [
    {
     "name": "stdout",
     "output_type": "stream",
     "text": [
      "[1 3 5]\n"
     ]
    }
   ],
   "source": [
    "# Slice the array a to get the array [1,3,5]\n",
    "sliced_arr = a[::2]\n",
    "print(sliced_arr)"
   ]
  },
  {
   "cell_type": "markdown",
   "id": "ccaff5b0",
   "metadata": {},
   "source": [
    "# Stacking"
   ]
  },
  {
   "cell_type": "markdown",
   "id": "1e538203",
   "metadata": {},
   "source": [
    "Finally, stacking is a feature of NumPy that leads to increased customization of arrays. It means to join two or more arrays, either horizontally or vertically, meaning that it is done along a new axis. \n",
    "\n",
    "- `np.vstack()` - stacks vertically\n",
    "- `np.hstack()` - stacks horizontally\n",
    "- `np.hsplit()` - splits an array into several smaller arrays"
   ]
  },
  {
   "cell_type": "code",
   "execution_count": 20,
   "id": "ccf0bb05",
   "metadata": {},
   "outputs": [
    {
     "name": "stdout",
     "output_type": "stream",
     "text": [
      "a1:\n",
      "[[1 1]\n",
      " [2 2]]\n",
      "a2:\n",
      "[[3 3]\n",
      " [4 4]]\n"
     ]
    }
   ],
   "source": [
    "a1 = np.array([[1,1], \n",
    "               [2,2]])\n",
    "a2 = np.array([[3,3],\n",
    "              [4,4]])\n",
    "print(f'a1:\\n{a1}')\n",
    "print(f'a2:\\n{a2}')"
   ]
  },
  {
   "cell_type": "code",
   "execution_count": 21,
   "id": "d967b6f0",
   "metadata": {},
   "outputs": [
    {
     "name": "stdout",
     "output_type": "stream",
     "text": [
      "[[1 1]\n",
      " [2 2]\n",
      " [3 3]\n",
      " [4 4]]\n"
     ]
    }
   ],
   "source": [
    "# Stack the arrays vertically\n",
    "vert_stack = np.vstack((a1, a2))\n",
    "print(vert_stack)"
   ]
  },
  {
   "cell_type": "code",
   "execution_count": 22,
   "id": "86832b02",
   "metadata": {},
   "outputs": [
    {
     "name": "stdout",
     "output_type": "stream",
     "text": [
      "[[1 1 3 3]\n",
      " [2 2 4 4]]\n"
     ]
    }
   ],
   "source": [
    "# Stack the arrays horizontally\n",
    "horz_stack = np.hstack((a1, a2))\n",
    "print(horz_stack)"
   ]
  },
  {
   "cell_type": "code",
   "execution_count": 23,
   "id": "7bc2831e",
   "metadata": {},
   "outputs": [
    {
     "data": {
      "text/plain": [
       "array([[0., 0., 0.],\n",
       "       [0., 0., 0.]])"
      ]
     },
     "execution_count": 23,
     "metadata": {},
     "output_type": "execute_result"
    }
   ],
   "source": [
    "np.empty((2,3))"
   ]
  },
  {
   "cell_type": "code",
   "execution_count": 25,
   "id": "5218e1cc",
   "metadata": {},
   "outputs": [
    {
     "ename": "AttributeError",
     "evalue": "module 'numpy' has no attribute 'zero'",
     "output_type": "error",
     "traceback": [
      "\u001b[1;31m---------------------------------------------------------------------------\u001b[0m",
      "\u001b[1;31mAttributeError\u001b[0m                            Traceback (most recent call last)",
      "\u001b[1;32m~\\AppData\\Local\\Temp\\ipykernel_11432\\552148653.py\u001b[0m in \u001b[0;36m<module>\u001b[1;34m\u001b[0m\n\u001b[1;32m----> 1\u001b[1;33m \u001b[0mnp\u001b[0m\u001b[1;33m.\u001b[0m\u001b[0mzero\u001b[0m\u001b[1;33m(\u001b[0m\u001b[1;33m(\u001b[0m\u001b[1;36m2\u001b[0m\u001b[1;33m)\u001b[0m\u001b[1;33m)\u001b[0m\u001b[1;33m\u001b[0m\u001b[1;33m\u001b[0m\u001b[0m\n\u001b[0m",
      "\u001b[1;32m~\\anaconda3\\lib\\site-packages\\numpy\\__init__.py\u001b[0m in \u001b[0;36m__getattr__\u001b[1;34m(attr)\u001b[0m\n\u001b[0;32m    311\u001b[0m                 \u001b[1;32mreturn\u001b[0m \u001b[0mTester\u001b[0m\u001b[1;33m\u001b[0m\u001b[1;33m\u001b[0m\u001b[0m\n\u001b[0;32m    312\u001b[0m \u001b[1;33m\u001b[0m\u001b[0m\n\u001b[1;32m--> 313\u001b[1;33m             raise AttributeError(\"module {!r} has no attribute \"\n\u001b[0m\u001b[0;32m    314\u001b[0m                                  \"{!r}\".format(__name__, attr))\n\u001b[0;32m    315\u001b[0m \u001b[1;33m\u001b[0m\u001b[0m\n",
      "\u001b[1;31mAttributeError\u001b[0m: module 'numpy' has no attribute 'zero'"
     ]
    }
   ],
   "source": []
  },
  {
   "cell_type": "code",
   "execution_count": null,
   "id": "8f5286f4",
   "metadata": {},
   "outputs": [],
   "source": []
  }
 ],
 "metadata": {
  "kernelspec": {
   "display_name": "Python 3 (ipykernel)",
   "language": "python",
   "name": "python3"
  },
  "language_info": {
   "codemirror_mode": {
    "name": "ipython",
    "version": 3
   },
   "file_extension": ".py",
   "mimetype": "text/x-python",
   "name": "python",
   "nbconvert_exporter": "python",
   "pygments_lexer": "ipython3",
   "version": "3.9.13"
  }
 },
 "nbformat": 4,
 "nbformat_minor": 5
}
